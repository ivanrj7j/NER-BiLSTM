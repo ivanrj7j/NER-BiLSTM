{
 "cells": [
  {
   "cell_type": "code",
   "execution_count": 1,
   "metadata": {},
   "outputs": [],
   "source": [
    "import pandas as pd"
   ]
  },
  {
   "cell_type": "code",
   "execution_count": 4,
   "metadata": {},
   "outputs": [],
   "source": [
    "import tensorflow as tf\n",
    "import numpy as np"
   ]
  },
  {
   "cell_type": "code",
   "execution_count": 5,
   "metadata": {},
   "outputs": [],
   "source": [
    "def splitText(dataFrame: pd.DataFrame) -> pd.DataFrame:\n",
    "    dataFrame.text = dataFrame.text.apply(lambda x: x.split())\n",
    "    dataFrame.labels = dataFrame.labels.apply(lambda x: x.split())\n",
    "    # splits the dataframe into lists instead of strings \n",
    "    \n",
    "    return dataFrame"
   ]
  },
  {
   "cell_type": "code",
   "execution_count": 6,
   "metadata": {},
   "outputs": [
    {
     "data": {
      "text/html": [
       "<div>\n",
       "<style scoped>\n",
       "    .dataframe tbody tr th:only-of-type {\n",
       "        vertical-align: middle;\n",
       "    }\n",
       "\n",
       "    .dataframe tbody tr th {\n",
       "        vertical-align: top;\n",
       "    }\n",
       "\n",
       "    .dataframe thead th {\n",
       "        text-align: right;\n",
       "    }\n",
       "</style>\n",
       "<table border=\"1\" class=\"dataframe\">\n",
       "  <thead>\n",
       "    <tr style=\"text-align: right;\">\n",
       "      <th></th>\n",
       "      <th>text</th>\n",
       "      <th>labels</th>\n",
       "    </tr>\n",
       "  </thead>\n",
       "  <tbody>\n",
       "    <tr>\n",
       "      <th>0</th>\n",
       "      <td>[Thousands, of, demonstrators, have, marched, ...</td>\n",
       "      <td>[O, O, O, O, O, O, B-geo, O, O, O, O, O, B-geo...</td>\n",
       "    </tr>\n",
       "    <tr>\n",
       "      <th>1</th>\n",
       "      <td>[Iranian, officials, say, they, expect, to, ge...</td>\n",
       "      <td>[B-gpe, O, O, O, O, O, O, O, O, O, O, O, O, O,...</td>\n",
       "    </tr>\n",
       "    <tr>\n",
       "      <th>2</th>\n",
       "      <td>[Helicopter, gunships, Saturday, pounded, mili...</td>\n",
       "      <td>[O, O, B-tim, O, O, O, O, O, B-geo, O, O, O, O...</td>\n",
       "    </tr>\n",
       "    <tr>\n",
       "      <th>3</th>\n",
       "      <td>[They, left, after, a, tense, hour-long, stand...</td>\n",
       "      <td>[O, O, O, O, O, O, O, O, O, O, O]</td>\n",
       "    </tr>\n",
       "    <tr>\n",
       "      <th>4</th>\n",
       "      <td>[U.N., relief, coordinator, Jan, Egeland, said...</td>\n",
       "      <td>[B-geo, O, O, B-per, I-per, O, B-tim, O, B-geo...</td>\n",
       "    </tr>\n",
       "    <tr>\n",
       "      <th>...</th>\n",
       "      <td>...</td>\n",
       "      <td>...</td>\n",
       "    </tr>\n",
       "    <tr>\n",
       "      <th>47954</th>\n",
       "      <td>[Opposition, leader, Mir, Hossein, Mousavi, ha...</td>\n",
       "      <td>[O, O, O, B-per, I-per, O, O, O, O, O, O, O, O...</td>\n",
       "    </tr>\n",
       "    <tr>\n",
       "      <th>47955</th>\n",
       "      <td>[On, Thursday, ,, Iranian, state, media, publi...</td>\n",
       "      <td>[O, B-tim, O, B-gpe, O, O, O, O, O, O, O, O, B...</td>\n",
       "    </tr>\n",
       "    <tr>\n",
       "      <th>47956</th>\n",
       "      <td>[Following, Iran, 's, disputed, June, 12, elec...</td>\n",
       "      <td>[O, B-geo, O, O, B-tim, I-tim, O, O, O, O, O, ...</td>\n",
       "    </tr>\n",
       "    <tr>\n",
       "      <th>47957</th>\n",
       "      <td>[Since, then, ,, authorities, have, held, publ...</td>\n",
       "      <td>[O, O, O, O, O, O, O, O, O, O, O, O, O, O, O, ...</td>\n",
       "    </tr>\n",
       "    <tr>\n",
       "      <th>47958</th>\n",
       "      <td>[The, United, Nations, is, praising, the, use,...</td>\n",
       "      <td>[O, B-org, I-org, O, O, O, O, O, O, O, O, O, O...</td>\n",
       "    </tr>\n",
       "  </tbody>\n",
       "</table>\n",
       "<p>47959 rows × 2 columns</p>\n",
       "</div>"
      ],
      "text/plain": [
       "                                                    text  \\\n",
       "0      [Thousands, of, demonstrators, have, marched, ...   \n",
       "1      [Iranian, officials, say, they, expect, to, ge...   \n",
       "2      [Helicopter, gunships, Saturday, pounded, mili...   \n",
       "3      [They, left, after, a, tense, hour-long, stand...   \n",
       "4      [U.N., relief, coordinator, Jan, Egeland, said...   \n",
       "...                                                  ...   \n",
       "47954  [Opposition, leader, Mir, Hossein, Mousavi, ha...   \n",
       "47955  [On, Thursday, ,, Iranian, state, media, publi...   \n",
       "47956  [Following, Iran, 's, disputed, June, 12, elec...   \n",
       "47957  [Since, then, ,, authorities, have, held, publ...   \n",
       "47958  [The, United, Nations, is, praising, the, use,...   \n",
       "\n",
       "                                                  labels  \n",
       "0      [O, O, O, O, O, O, B-geo, O, O, O, O, O, B-geo...  \n",
       "1      [B-gpe, O, O, O, O, O, O, O, O, O, O, O, O, O,...  \n",
       "2      [O, O, B-tim, O, O, O, O, O, B-geo, O, O, O, O...  \n",
       "3                      [O, O, O, O, O, O, O, O, O, O, O]  \n",
       "4      [B-geo, O, O, B-per, I-per, O, B-tim, O, B-geo...  \n",
       "...                                                  ...  \n",
       "47954  [O, O, O, B-per, I-per, O, O, O, O, O, O, O, O...  \n",
       "47955  [O, B-tim, O, B-gpe, O, O, O, O, O, O, O, O, B...  \n",
       "47956  [O, B-geo, O, O, B-tim, I-tim, O, O, O, O, O, ...  \n",
       "47957  [O, O, O, O, O, O, O, O, O, O, O, O, O, O, O, ...  \n",
       "47958  [O, B-org, I-org, O, O, O, O, O, O, O, O, O, O...  \n",
       "\n",
       "[47959 rows x 2 columns]"
      ]
     },
     "execution_count": 6,
     "metadata": {},
     "output_type": "execute_result"
    }
   ],
   "source": [
    "df = pd.read_csv(\"ner.csv\")\n",
    "# loading dataset \n",
    "\n",
    "df = splitText(df)\n",
    "# converting the text to lists \n",
    "df"
   ]
  },
  {
   "cell_type": "markdown",
   "metadata": {},
   "source": [
    "## Label encoder"
   ]
  },
  {
   "cell_type": "code",
   "execution_count": 7,
   "metadata": {},
   "outputs": [],
   "source": [
    "from sklearn.preprocessing import LabelEncoder"
   ]
  },
  {
   "cell_type": "code",
   "execution_count": 8,
   "metadata": {},
   "outputs": [],
   "source": [
    "def getEncoder(dataFrame: pd.DataFrame) -> LabelEncoder:\n",
    "    labelEncoder = LabelEncoder()\n",
    "    labelEncoder.fit([\"U\"] + list(set(dataFrame.labels.explode())))\n",
    "\n",
    "    return labelEncoder"
   ]
  },
  {
   "cell_type": "code",
   "execution_count": 9,
   "metadata": {},
   "outputs": [
    {
     "data": {
      "text/plain": [
       "(18,\n",
       " array(['B-art', 'B-eve', 'B-geo', 'B-gpe', 'B-nat', 'B-org', 'B-per',\n",
       "        'B-tim', 'I-art', 'I-eve', 'I-geo', 'I-gpe', 'I-nat', 'I-org',\n",
       "        'I-per', 'I-tim', 'O', 'U'], dtype='<U5'))"
      ]
     },
     "execution_count": 9,
     "metadata": {},
     "output_type": "execute_result"
    }
   ],
   "source": [
    "labelEncoder = getEncoder(df)\n",
    "\n",
    "totalClasses = len(labelEncoder.classes_)\n",
    "totalClasses, labelEncoder.classes_\n",
    "# initializing a labelEncoder with all the classes"
   ]
  },
  {
   "cell_type": "code",
   "execution_count": 10,
   "metadata": {},
   "outputs": [],
   "source": [
    "def labelEncodeDataFrame(dataFrame: pd.DataFrame, labelEncoder:LabelEncoder) -> pd.DataFrame:\n",
    "    dataFrame.labels = dataFrame.labels.apply(lambda x: labelEncoder.transform(x))\n",
    "    return dataFrame"
   ]
  },
  {
   "cell_type": "code",
   "execution_count": 11,
   "metadata": {},
   "outputs": [
    {
     "data": {
      "text/html": [
       "<div>\n",
       "<style scoped>\n",
       "    .dataframe tbody tr th:only-of-type {\n",
       "        vertical-align: middle;\n",
       "    }\n",
       "\n",
       "    .dataframe tbody tr th {\n",
       "        vertical-align: top;\n",
       "    }\n",
       "\n",
       "    .dataframe thead th {\n",
       "        text-align: right;\n",
       "    }\n",
       "</style>\n",
       "<table border=\"1\" class=\"dataframe\">\n",
       "  <thead>\n",
       "    <tr style=\"text-align: right;\">\n",
       "      <th></th>\n",
       "      <th>text</th>\n",
       "      <th>labels</th>\n",
       "    </tr>\n",
       "  </thead>\n",
       "  <tbody>\n",
       "    <tr>\n",
       "      <th>0</th>\n",
       "      <td>[Thousands, of, demonstrators, have, marched, ...</td>\n",
       "      <td>[16, 16, 16, 16, 16, 16, 2, 16, 16, 16, 16, 16...</td>\n",
       "    </tr>\n",
       "    <tr>\n",
       "      <th>1</th>\n",
       "      <td>[Iranian, officials, say, they, expect, to, ge...</td>\n",
       "      <td>[3, 16, 16, 16, 16, 16, 16, 16, 16, 16, 16, 16...</td>\n",
       "    </tr>\n",
       "    <tr>\n",
       "      <th>2</th>\n",
       "      <td>[Helicopter, gunships, Saturday, pounded, mili...</td>\n",
       "      <td>[16, 16, 7, 16, 16, 16, 16, 16, 2, 16, 16, 16,...</td>\n",
       "    </tr>\n",
       "    <tr>\n",
       "      <th>3</th>\n",
       "      <td>[They, left, after, a, tense, hour-long, stand...</td>\n",
       "      <td>[16, 16, 16, 16, 16, 16, 16, 16, 16, 16, 16]</td>\n",
       "    </tr>\n",
       "    <tr>\n",
       "      <th>4</th>\n",
       "      <td>[U.N., relief, coordinator, Jan, Egeland, said...</td>\n",
       "      <td>[2, 16, 16, 6, 14, 16, 7, 16, 2, 16, 3, 16, 3,...</td>\n",
       "    </tr>\n",
       "    <tr>\n",
       "      <th>...</th>\n",
       "      <td>...</td>\n",
       "      <td>...</td>\n",
       "    </tr>\n",
       "    <tr>\n",
       "      <th>47954</th>\n",
       "      <td>[Opposition, leader, Mir, Hossein, Mousavi, ha...</td>\n",
       "      <td>[16, 16, 16, 6, 14, 16, 16, 16, 16, 16, 16, 16...</td>\n",
       "    </tr>\n",
       "    <tr>\n",
       "      <th>47955</th>\n",
       "      <td>[On, Thursday, ,, Iranian, state, media, publi...</td>\n",
       "      <td>[16, 7, 16, 3, 16, 16, 16, 16, 16, 16, 16, 16,...</td>\n",
       "    </tr>\n",
       "    <tr>\n",
       "      <th>47956</th>\n",
       "      <td>[Following, Iran, 's, disputed, June, 12, elec...</td>\n",
       "      <td>[16, 2, 16, 16, 7, 15, 16, 16, 16, 16, 16, 16,...</td>\n",
       "    </tr>\n",
       "    <tr>\n",
       "      <th>47957</th>\n",
       "      <td>[Since, then, ,, authorities, have, held, publ...</td>\n",
       "      <td>[16, 16, 16, 16, 16, 16, 16, 16, 16, 16, 16, 1...</td>\n",
       "    </tr>\n",
       "    <tr>\n",
       "      <th>47958</th>\n",
       "      <td>[The, United, Nations, is, praising, the, use,...</td>\n",
       "      <td>[16, 5, 13, 16, 16, 16, 16, 16, 16, 16, 16, 16...</td>\n",
       "    </tr>\n",
       "  </tbody>\n",
       "</table>\n",
       "<p>47959 rows × 2 columns</p>\n",
       "</div>"
      ],
      "text/plain": [
       "                                                    text  \\\n",
       "0      [Thousands, of, demonstrators, have, marched, ...   \n",
       "1      [Iranian, officials, say, they, expect, to, ge...   \n",
       "2      [Helicopter, gunships, Saturday, pounded, mili...   \n",
       "3      [They, left, after, a, tense, hour-long, stand...   \n",
       "4      [U.N., relief, coordinator, Jan, Egeland, said...   \n",
       "...                                                  ...   \n",
       "47954  [Opposition, leader, Mir, Hossein, Mousavi, ha...   \n",
       "47955  [On, Thursday, ,, Iranian, state, media, publi...   \n",
       "47956  [Following, Iran, 's, disputed, June, 12, elec...   \n",
       "47957  [Since, then, ,, authorities, have, held, publ...   \n",
       "47958  [The, United, Nations, is, praising, the, use,...   \n",
       "\n",
       "                                                  labels  \n",
       "0      [16, 16, 16, 16, 16, 16, 2, 16, 16, 16, 16, 16...  \n",
       "1      [3, 16, 16, 16, 16, 16, 16, 16, 16, 16, 16, 16...  \n",
       "2      [16, 16, 7, 16, 16, 16, 16, 16, 2, 16, 16, 16,...  \n",
       "3           [16, 16, 16, 16, 16, 16, 16, 16, 16, 16, 16]  \n",
       "4      [2, 16, 16, 6, 14, 16, 7, 16, 2, 16, 3, 16, 3,...  \n",
       "...                                                  ...  \n",
       "47954  [16, 16, 16, 6, 14, 16, 16, 16, 16, 16, 16, 16...  \n",
       "47955  [16, 7, 16, 3, 16, 16, 16, 16, 16, 16, 16, 16,...  \n",
       "47956  [16, 2, 16, 16, 7, 15, 16, 16, 16, 16, 16, 16,...  \n",
       "47957  [16, 16, 16, 16, 16, 16, 16, 16, 16, 16, 16, 1...  \n",
       "47958  [16, 5, 13, 16, 16, 16, 16, 16, 16, 16, 16, 16...  \n",
       "\n",
       "[47959 rows x 2 columns]"
      ]
     },
     "execution_count": 11,
     "metadata": {},
     "output_type": "execute_result"
    }
   ],
   "source": [
    "df = labelEncodeDataFrame(df, labelEncoder)\n",
    "df\n",
    "# label encoding the dataframe "
   ]
  },
  {
   "cell_type": "markdown",
   "metadata": {},
   "source": [
    "## Tokenization"
   ]
  },
  {
   "cell_type": "code",
   "execution_count": 12,
   "metadata": {},
   "outputs": [],
   "source": [
    "from tensorflow.keras.preprocessing.text import Tokenizer"
   ]
  },
  {
   "cell_type": "code",
   "execution_count": 13,
   "metadata": {},
   "outputs": [],
   "source": [
    "def getTokenizer(dataFrame:pd.DataFrame) -> Tokenizer:\n",
    "    tokenizer = Tokenizer()\n",
    "    tokenizer.fit_on_texts(dataFrame.text.explode(\"text\").to_list())\n",
    "    # initializing the tokenizer \n",
    "\n",
    "    return tokenizer"
   ]
  },
  {
   "cell_type": "code",
   "execution_count": 14,
   "metadata": {},
   "outputs": [
    {
     "data": {
      "text/plain": [
       "27943"
      ]
     },
     "execution_count": 14,
     "metadata": {},
     "output_type": "execute_result"
    }
   ],
   "source": [
    "tokenizer = getTokenizer(df)\n",
    "\n",
    "totalClasses = len(tokenizer.word_index) + 1\n",
    "totalClasses\n",
    "# initializing a tokenizer "
   ]
  },
  {
   "cell_type": "code",
   "execution_count": 15,
   "metadata": {},
   "outputs": [],
   "source": [
    "def sequence(wordList:list, tokenizer:Tokenizer):\n",
    "    seq = tokenizer.texts_to_sequences(wordList)\n",
    "    return seq"
   ]
  },
  {
   "cell_type": "code",
   "execution_count": 16,
   "metadata": {},
   "outputs": [],
   "source": [
    "def padSequence(sequence:list, maxLen:int, filler:int=0):\n",
    "    if len(sequence) > maxLen:\n",
    "        return sequence[:maxLen]\n",
    "    totalZeros = maxLen - len(sequence) \n",
    "    return sequence + [filler for _ in range(totalZeros)]\n",
    "# pad function "
   ]
  },
  {
   "cell_type": "code",
   "execution_count": 17,
   "metadata": {},
   "outputs": [],
   "source": [
    "def prepareData(sequence:list[list], tags:list, unknownFiller:int):\n",
    "    assert len(sequence) == len(tags)\n",
    "    newTags = []\n",
    "    newSequence = []\n",
    "    for i, s in enumerate(sequence):\n",
    "        if len(s) == 0:\n",
    "            newTags.append(unknownFiller)\n",
    "            newSequence.append(0)\n",
    "        else:\n",
    "            for item in s:\n",
    "                newTags.append(tags[i])\n",
    "                newSequence.append(item)\n",
    "                \n",
    "    return newTags, newSequence"
   ]
  },
  {
   "cell_type": "code",
   "execution_count": 11,
   "metadata": {},
   "outputs": [],
   "source": [
    "def preparePaddedData(sequence:list[list], tags:list, unknownFiller:int, maxLen:int, totalClasses:int):\n",
    "    tags, sequence = prepareData(sequence, tags, unknownFiller)\n",
    "    newTags = padSequence(tags, maxLen)\n",
    "    newSequence = padSequence(sequence, maxLen)\n",
    "    \n",
    "    return newSequence, tf.one_hot(newTags, totalClasses)"
   ]
  },
  {
   "cell_type": "code",
   "execution_count": 19,
   "metadata": {},
   "outputs": [],
   "source": [
    "maxLen = 35"
   ]
  },
  {
   "cell_type": "markdown",
   "metadata": {},
   "source": [
    "## Data Pipeline"
   ]
  },
  {
   "cell_type": "code",
   "execution_count": 20,
   "metadata": {},
   "outputs": [],
   "source": [
    "def prepareDataFrame(fileName:str, split=True, splitRatio:float=0.85) -> pd.DataFrame | tuple[pd.DataFrame]:\n",
    "    df = pd.read_csv(fileName)\n",
    "    df = splitText(df)\n",
    "    df = labelEncodeDataFrame(df, labelEncoder)\n",
    "\n",
    "    if split:\n",
    "        df = df.sample(frac=1)\n",
    "        splitIndex = int(df.shape[0] * splitRatio)\n",
    "        train = df.iloc[:splitIndex].reset_index(drop=True)\n",
    "        test = df.iloc[splitIndex:].reset_index(drop=True)\n",
    "        return train, test\n",
    "    else:\n",
    "        return df"
   ]
  },
  {
   "cell_type": "code",
   "execution_count": 21,
   "metadata": {},
   "outputs": [],
   "source": [
    "def dataGenerator(df:pd.DataFrame,tokenizer:Tokenizer,maxLen:int, totalClasses:int, fields=(\"text\", \"labels\")):\n",
    "    for x, y in zip(df[fields[0]], df[fields[1]]):\n",
    "        \n",
    "        s, t = preparePaddedData(sequence(x, tokenizer), y, totalClasses-1, maxLen, totalClasses)\n",
    "        \n",
    "        yield tf.constant(s, dtype=tf.float32), tf.constant(t, dtype=tf.float32)"
   ]
  },
  {
   "cell_type": "code",
   "execution_count": 36,
   "metadata": {},
   "outputs": [],
   "source": [
    "def getTensorflowDataset(df:pd.DataFrame,tokenizer:Tokenizer,maxLen:int, totalClasses:int, fields=(\"text\", \"labels\"), batchSize=64):\n",
    "    dataset = tf.data.Dataset.from_generator(lambda : dataGenerator(df, tokenizer, maxLen, totalClasses, fields), output_signature=(\n",
    "        tf.TensorSpec(shape=(maxLen,), dtype=tf.float32),\n",
    "        tf.TensorSpec(shape=(maxLen, totalClasses), dtype=tf.float32),\n",
    "    )).batch(batchSize)\n",
    "    return dataset"
   ]
  },
  {
   "cell_type": "code",
   "execution_count": 37,
   "metadata": {},
   "outputs": [],
   "source": [
    "dataset = prepareDataFrame(\"ner.csv\", False)\n",
    "train, test = prepareDataFrame(\"ner.csv\")"
   ]
  },
  {
   "cell_type": "code",
   "execution_count": 38,
   "metadata": {},
   "outputs": [],
   "source": [
    "trainingSet = getTensorflowDataset(train, totalClasses, maxLen, totalClasses)\n",
    "testingSet = getTensorflowDataset(test, totalClasses, maxLen, totalClasses)"
   ]
  },
  {
   "cell_type": "code",
   "execution_count": 40,
   "metadata": {},
   "outputs": [
    {
     "name": "stdout",
     "output_type": "stream",
     "text": [
      "tf.Tensor(\n",
      "[[1.2800e+02 2.2500e+03 1.0800e+02 ... 0.0000e+00 0.0000e+00 0.0000e+00]\n",
      " [1.0000e+00 3.6000e+01 3.1320e+03 ... 0.0000e+00 0.0000e+00 0.0000e+00]\n",
      " [1.8400e+02 5.1000e+01 3.3000e+01 ... 0.0000e+00 0.0000e+00 0.0000e+00]\n",
      " ...\n",
      " [1.7530e+03 7.0000e+00 2.3600e+02 ... 0.0000e+00 0.0000e+00 0.0000e+00]\n",
      " [1.0000e+00 1.0600e+02 1.5581e+04 ... 0.0000e+00 0.0000e+00 0.0000e+00]\n",
      " [7.8000e+01 1.1280e+03 6.3000e+01 ... 0.0000e+00 0.0000e+00 0.0000e+00]], shape=(64, 35), dtype=float32) tf.Tensor(\n",
      "[[[0. 0. 0. ... 0. 0. 0.]\n",
      "  [0. 0. 0. ... 0. 0. 0.]\n",
      "  [0. 0. 0. ... 0. 0. 0.]\n",
      "  ...\n",
      "  [1. 0. 0. ... 0. 0. 0.]\n",
      "  [1. 0. 0. ... 0. 0. 0.]\n",
      "  [1. 0. 0. ... 0. 0. 0.]]\n",
      "\n",
      " [[0. 0. 0. ... 0. 0. 0.]\n",
      "  [0. 0. 0. ... 0. 0. 0.]\n",
      "  [0. 0. 0. ... 0. 0. 0.]\n",
      "  ...\n",
      "  [1. 0. 0. ... 0. 0. 0.]\n",
      "  [1. 0. 0. ... 0. 0. 0.]\n",
      "  [1. 0. 0. ... 0. 0. 0.]]\n",
      "\n",
      " [[0. 0. 0. ... 0. 0. 0.]\n",
      "  [0. 0. 0. ... 0. 0. 0.]\n",
      "  [0. 0. 0. ... 0. 0. 0.]\n",
      "  ...\n",
      "  [1. 0. 0. ... 0. 0. 0.]\n",
      "  [1. 0. 0. ... 0. 0. 0.]\n",
      "  [1. 0. 0. ... 0. 0. 0.]]\n",
      "\n",
      " ...\n",
      "\n",
      " [[0. 0. 1. ... 0. 0. 0.]\n",
      "  [0. 0. 0. ... 0. 0. 0.]\n",
      "  [0. 0. 0. ... 0. 0. 0.]\n",
      "  ...\n",
      "  [1. 0. 0. ... 0. 0. 0.]\n",
      "  [1. 0. 0. ... 0. 0. 0.]\n",
      "  [1. 0. 0. ... 0. 0. 0.]]\n",
      "\n",
      " [[0. 0. 0. ... 0. 0. 0.]\n",
      "  [0. 0. 0. ... 0. 0. 0.]\n",
      "  [0. 0. 0. ... 0. 0. 0.]\n",
      "  ...\n",
      "  [1. 0. 0. ... 0. 0. 0.]\n",
      "  [1. 0. 0. ... 0. 0. 0.]\n",
      "  [1. 0. 0. ... 0. 0. 0.]]\n",
      "\n",
      " [[0. 0. 1. ... 0. 0. 0.]\n",
      "  [0. 0. 0. ... 0. 0. 0.]\n",
      "  [0. 0. 0. ... 0. 0. 0.]\n",
      "  ...\n",
      "  [1. 0. 0. ... 0. 0. 0.]\n",
      "  [1. 0. 0. ... 0. 0. 0.]\n",
      "  [1. 0. 0. ... 0. 0. 0.]]], shape=(64, 35, 27943), dtype=float32)\n",
      "finished\n"
     ]
    }
   ],
   "source": [
    "for x, y in trainingSet:\n",
    "    if x.shape != y.shape:\n",
    "        print(x, y)\n",
    "        break\n",
    "print(\"finished\")"
   ]
  },
  {
   "cell_type": "markdown",
   "metadata": {},
   "source": [
    "## Testing\n"
   ]
  },
  {
   "cell_type": "code",
   "execution_count": 2,
   "metadata": {},
   "outputs": [],
   "source": [
    "from modelPrep.utils import prepareDataFrame as p"
   ]
  },
  {
   "cell_type": "code",
   "execution_count": 3,
   "metadata": {},
   "outputs": [],
   "source": [
    "train, test = p(\"ner.csv\")"
   ]
  },
  {
   "cell_type": "code",
   "execution_count": 4,
   "metadata": {},
   "outputs": [
    {
     "data": {
      "text/html": [
       "<div>\n",
       "<style scoped>\n",
       "    .dataframe tbody tr th:only-of-type {\n",
       "        vertical-align: middle;\n",
       "    }\n",
       "\n",
       "    .dataframe tbody tr th {\n",
       "        vertical-align: top;\n",
       "    }\n",
       "\n",
       "    .dataframe thead th {\n",
       "        text-align: right;\n",
       "    }\n",
       "</style>\n",
       "<table border=\"1\" class=\"dataframe\">\n",
       "  <thead>\n",
       "    <tr style=\"text-align: right;\">\n",
       "      <th></th>\n",
       "      <th>text</th>\n",
       "      <th>labels</th>\n",
       "    </tr>\n",
       "  </thead>\n",
       "  <tbody>\n",
       "    <tr>\n",
       "      <th>0</th>\n",
       "      <td>[The, executives, say, their, profits, are, re...</td>\n",
       "      <td>[16, 16, 16, 16, 16, 16, 16, 16, 16, 16, 16, 1...</td>\n",
       "    </tr>\n",
       "    <tr>\n",
       "      <th>1</th>\n",
       "      <td>[The, demonstrators, Sunday, called, on, the, ...</td>\n",
       "      <td>[16, 16, 7, 16, 16, 16, 16, 16, 16, 16, 16, 16...</td>\n",
       "    </tr>\n",
       "    <tr>\n",
       "      <th>2</th>\n",
       "      <td>[Officials, and, media, reports, from, CNN-Tur...</td>\n",
       "      <td>[16, 16, 16, 16, 16, 16, 16, 16, 16, 16, 16, 1...</td>\n",
       "    </tr>\n",
       "    <tr>\n",
       "      <th>3</th>\n",
       "      <td>[He, told, reporters, today, that, he, will, p...</td>\n",
       "      <td>[16, 16, 16, 7, 16, 16, 16, 16, 16, 16, 5, 16,...</td>\n",
       "    </tr>\n",
       "    <tr>\n",
       "      <th>4</th>\n",
       "      <td>[Iraqi, legislators, have, been, grappling, ov...</td>\n",
       "      <td>[3, 16, 16, 16, 16, 16, 16, 16, 16, 16, 16, 16...</td>\n",
       "    </tr>\n",
       "    <tr>\n",
       "      <th>...</th>\n",
       "      <td>...</td>\n",
       "      <td>...</td>\n",
       "    </tr>\n",
       "    <tr>\n",
       "      <th>7189</th>\n",
       "      <td>[Temperatures, in, Moscow, have, hovered, near...</td>\n",
       "      <td>[16, 16, 2, 16, 16, 16, 16, 16, 16, 16, 16, 16...</td>\n",
       "    </tr>\n",
       "    <tr>\n",
       "      <th>7190</th>\n",
       "      <td>[In, another, development, Friday, ,, thousand...</td>\n",
       "      <td>[16, 16, 16, 7, 16, 16, 16, 3, 16, 16, 16, 16,...</td>\n",
       "    </tr>\n",
       "    <tr>\n",
       "      <th>7191</th>\n",
       "      <td>[Three, hurricanes, briefly, reached, the, mos...</td>\n",
       "      <td>[16, 16, 16, 16, 16, 16, 16, 16, 16, 16, 16, 1...</td>\n",
       "    </tr>\n",
       "    <tr>\n",
       "      <th>7192</th>\n",
       "      <td>[The, U.S., military, in, Afghanistan, says, a...</td>\n",
       "      <td>[16, 2, 16, 16, 2, 16, 16, 5, 13, 16, 16, 3, 1...</td>\n",
       "    </tr>\n",
       "    <tr>\n",
       "      <th>7193</th>\n",
       "      <td>[Leading, opposition, candidate, Emmanuel, Aki...</td>\n",
       "      <td>[16, 16, 16, 6, 14, 14, 16, 16, 16, 16, 16, 16...</td>\n",
       "    </tr>\n",
       "  </tbody>\n",
       "</table>\n",
       "<p>7194 rows × 2 columns</p>\n",
       "</div>"
      ],
      "text/plain": [
       "                                                   text  \\\n",
       "0     [The, executives, say, their, profits, are, re...   \n",
       "1     [The, demonstrators, Sunday, called, on, the, ...   \n",
       "2     [Officials, and, media, reports, from, CNN-Tur...   \n",
       "3     [He, told, reporters, today, that, he, will, p...   \n",
       "4     [Iraqi, legislators, have, been, grappling, ov...   \n",
       "...                                                 ...   \n",
       "7189  [Temperatures, in, Moscow, have, hovered, near...   \n",
       "7190  [In, another, development, Friday, ,, thousand...   \n",
       "7191  [Three, hurricanes, briefly, reached, the, mos...   \n",
       "7192  [The, U.S., military, in, Afghanistan, says, a...   \n",
       "7193  [Leading, opposition, candidate, Emmanuel, Aki...   \n",
       "\n",
       "                                                 labels  \n",
       "0     [16, 16, 16, 16, 16, 16, 16, 16, 16, 16, 16, 1...  \n",
       "1     [16, 16, 7, 16, 16, 16, 16, 16, 16, 16, 16, 16...  \n",
       "2     [16, 16, 16, 16, 16, 16, 16, 16, 16, 16, 16, 1...  \n",
       "3     [16, 16, 16, 7, 16, 16, 16, 16, 16, 16, 5, 16,...  \n",
       "4     [3, 16, 16, 16, 16, 16, 16, 16, 16, 16, 16, 16...  \n",
       "...                                                 ...  \n",
       "7189  [16, 16, 2, 16, 16, 16, 16, 16, 16, 16, 16, 16...  \n",
       "7190  [16, 16, 16, 7, 16, 16, 16, 3, 16, 16, 16, 16,...  \n",
       "7191  [16, 16, 16, 16, 16, 16, 16, 16, 16, 16, 16, 1...  \n",
       "7192  [16, 2, 16, 16, 2, 16, 16, 5, 13, 16, 16, 3, 1...  \n",
       "7193  [16, 16, 16, 6, 14, 14, 16, 16, 16, 16, 16, 16...  \n",
       "\n",
       "[7194 rows x 2 columns]"
      ]
     },
     "execution_count": 4,
     "metadata": {},
     "output_type": "execute_result"
    }
   ],
   "source": [
    "test"
   ]
  },
  {
   "cell_type": "code",
   "execution_count": 12,
   "metadata": {},
   "outputs": [],
   "source": [
    "from modelPrep.utils import getTensorflowDataset \n",
    "from modelPrep.utils import getTokenizer "
   ]
  },
  {
   "cell_type": "code",
   "execution_count": 6,
   "metadata": {},
   "outputs": [
    {
     "data": {
      "text/plain": [
       "27943"
      ]
     },
     "execution_count": 6,
     "metadata": {},
     "output_type": "execute_result"
    }
   ],
   "source": [
    "tokenizer = t(pd.concat([train, test]))"
   ]
  },
  {
   "cell_type": "code",
   "execution_count": 7,
   "metadata": {},
   "outputs": [
    {
     "data": {
      "text/plain": [
       "27943"
      ]
     },
     "execution_count": 7,
     "metadata": {},
     "output_type": "execute_result"
    }
   ],
   "source": [
    "len(tokenizer.word_index)+1"
   ]
  },
  {
   "cell_type": "code",
   "execution_count": 13,
   "metadata": {},
   "outputs": [],
   "source": [
    "trainingSet = getTensorflowDataset(train, tokenizer, 35, 18)\n",
    "testingSet = getTensorflowDataset(train, tokenizer, 35, 18)"
   ]
  },
  {
   "cell_type": "code",
   "execution_count": 14,
   "metadata": {},
   "outputs": [
    {
     "name": "stdout",
     "output_type": "stream",
     "text": [
      "(64, 35) (64, 35, 18)\n"
     ]
    }
   ],
   "source": [
    "for x, y in testingSet:\n",
    "    print(x.shape, y.shape)\n",
    "    break"
   ]
  }
 ],
 "metadata": {
  "kernelspec": {
   "display_name": "base",
   "language": "python",
   "name": "python3"
  },
  "language_info": {
   "codemirror_mode": {
    "name": "ipython",
    "version": 3
   },
   "file_extension": ".py",
   "mimetype": "text/x-python",
   "name": "python",
   "nbconvert_exporter": "python",
   "pygments_lexer": "ipython3",
   "version": "3.11.7"
  }
 },
 "nbformat": 4,
 "nbformat_minor": 2
}
